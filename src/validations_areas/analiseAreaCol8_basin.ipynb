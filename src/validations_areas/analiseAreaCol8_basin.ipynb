{
 "cells": [
  {
   "cell_type": "code",
   "execution_count": 8,
   "id": "79556dd5-4d1e-4480-ab4b-32f57b60cc36",
   "metadata": {},
   "outputs": [
    {
     "ename": "ModuleNotFoundError",
     "evalue": "No module named 'plotly'",
     "output_type": "error",
     "traceback": [
      "\u001b[0;31m---------------------------------------------------------------------------\u001b[0m",
      "\u001b[0;31mModuleNotFoundError\u001b[0m                       Traceback (most recent call last)",
      "Cell \u001b[0;32mIn[8], line 6\u001b[0m\n\u001b[1;32m      4\u001b[0m \u001b[38;5;28;01mimport\u001b[39;00m \u001b[38;5;21;01mmatplotlib\u001b[39;00m\u001b[38;5;21;01m.\u001b[39;00m\u001b[38;5;21;01mpyplot\u001b[39;00m \u001b[38;5;28;01mas\u001b[39;00m \u001b[38;5;21;01mplt\u001b[39;00m\n\u001b[1;32m      5\u001b[0m \u001b[38;5;28;01mimport\u001b[39;00m \u001b[38;5;21;01mseaborn\u001b[39;00m \u001b[38;5;28;01mas\u001b[39;00m \u001b[38;5;21;01msns\u001b[39;00m\n\u001b[0;32m----> 6\u001b[0m \u001b[38;5;28;01mimport\u001b[39;00m \u001b[38;5;21;01mplotly\u001b[39;00m\n\u001b[1;32m      7\u001b[0m \u001b[38;5;28;01mimport\u001b[39;00m \u001b[38;5;21;01mplotly\u001b[39;00m\u001b[38;5;21;01m.\u001b[39;00m\u001b[38;5;21;01mexpress\u001b[39;00m \u001b[38;5;28;01mas\u001b[39;00m \u001b[38;5;21;01mpx\u001b[39;00m\n\u001b[1;32m      8\u001b[0m \u001b[38;5;28;01mfrom\u001b[39;00m \u001b[38;5;21;01mplotly\u001b[39;00m\u001b[38;5;21;01m.\u001b[39;00m\u001b[38;5;21;01msubplots\u001b[39;00m \u001b[38;5;28;01mimport\u001b[39;00m make_subplots\n",
      "\u001b[0;31mModuleNotFoundError\u001b[0m: No module named 'plotly'"
     ]
    }
   ],
   "source": [
    "import pandas as pd\n",
    "import os \n",
    "from pathlib import Path\n",
    "import matplotlib.pyplot as plt\n",
    "import seaborn as sns\n",
    "import plotly\n",
    "import plotly.express as px\n",
    "from plotly.subplots import make_subplots\n",
    "import plotly.graph_objects as go"
   ]
  },
  {
   "cell_type": "code",
   "execution_count": 5,
   "id": "7b9ec12b-9f4f-402e-9488-9f509ec733b9",
   "metadata": {},
   "outputs": [
    {
     "name": "stdout",
     "output_type": "stream",
     "text": [
      "Requirement already satisfied: plotly-express in /home/superuser/py-env/pyML/lib/python3.12/site-packages (0.4.1)\n",
      "Requirement already satisfied: pandas>=0.20.0 in /home/superuser/py-env/pyML/lib/python3.12/site-packages (from plotly-express) (2.2.2)\n",
      "Requirement already satisfied: plotly>=4.1.0 in /home/superuser/py-env/pyML/lib/python3.12/site-packages (from plotly-express) (5.21.0)\n",
      "Requirement already satisfied: statsmodels>=0.9.0 in /home/superuser/py-env/pyML/lib/python3.12/site-packages (from plotly-express) (0.14.2)\n",
      "Requirement already satisfied: scipy>=0.18 in /home/superuser/py-env/pyML/lib/python3.12/site-packages (from plotly-express) (1.13.0)\n",
      "Requirement already satisfied: patsy>=0.5 in /home/superuser/py-env/pyML/lib/python3.12/site-packages (from plotly-express) (0.5.6)\n",
      "Requirement already satisfied: numpy>=1.11 in /home/superuser/py-env/pyML/lib/python3.12/site-packages (from plotly-express) (1.26.4)\n",
      "Requirement already satisfied: python-dateutil>=2.8.2 in /home/superuser/py-env/pyML/lib/python3.12/site-packages (from pandas>=0.20.0->plotly-express) (2.9.0.post0)\n",
      "Requirement already satisfied: pytz>=2020.1 in /home/superuser/py-env/pyML/lib/python3.12/site-packages (from pandas>=0.20.0->plotly-express) (2024.1)\n",
      "Requirement already satisfied: tzdata>=2022.7 in /home/superuser/py-env/pyML/lib/python3.12/site-packages (from pandas>=0.20.0->plotly-express) (2024.1)\n",
      "Requirement already satisfied: six in /home/superuser/py-env/pyML/lib/python3.12/site-packages (from patsy>=0.5->plotly-express) (1.16.0)\n",
      "Requirement already satisfied: tenacity>=6.2.0 in /home/superuser/py-env/pyML/lib/python3.12/site-packages (from plotly>=4.1.0->plotly-express) (8.2.3)\n",
      "Requirement already satisfied: packaging in /home/superuser/py-env/pyML/lib/python3.12/site-packages (from plotly>=4.1.0->plotly-express) (24.0)\n"
     ]
    }
   ],
   "source": [
    "!pip install plotly-express"
   ]
  },
  {
   "cell_type": "code",
   "execution_count": null,
   "id": "326008fd-5152-49a3-a1b2-7e2056bd1ea2",
   "metadata": {},
   "outputs": [],
   "source": []
  }
 ],
 "metadata": {
  "kernelspec": {
   "display_name": "Python 3 (ipykernel)",
   "language": "python",
   "name": "python3"
  },
  "language_info": {
   "codemirror_mode": {
    "name": "ipython",
    "version": 3
   },
   "file_extension": ".py",
   "mimetype": "text/x-python",
   "name": "python",
   "nbconvert_exporter": "python",
   "pygments_lexer": "ipython3",
   "version": "3.12.3"
  }
 },
 "nbformat": 4,
 "nbformat_minor": 5
}
